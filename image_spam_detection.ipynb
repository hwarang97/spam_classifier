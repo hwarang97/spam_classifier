{
  "nbformat": 4,
  "nbformat_minor": 0,
  "metadata": {
    "colab": {
      "provenance": [],
      "authorship_tag": "ABX9TyNH6joEo0H4K17fUEXtogEH",
      "include_colab_link": true
    },
    "kernelspec": {
      "name": "python3",
      "display_name": "Python 3"
    },
    "language_info": {
      "name": "python"
    }
  },
  "cells": [
    {
      "cell_type": "markdown",
      "metadata": {
        "id": "view-in-github",
        "colab_type": "text"
      },
      "source": [
        "<a href=\"https://colab.research.google.com/github/hwarang97/spam_classifier/blob/me/image_spam_detection.ipynb\" target=\"_parent\"><img src=\"https://colab.research.google.com/assets/colab-badge.svg\" alt=\"Open In Colab\"/></a>"
      ]
    },
    {
      "cell_type": "code",
      "execution_count": null,
      "metadata": {
        "id": "zZ0gQAjScsrh",
        "colab": {
          "base_uri": "https://localhost:8080/"
        },
        "outputId": "efe95d54-15f0-4cca-c340-6b236a1107aa"
      },
      "outputs": [
        {
          "output_type": "stream",
          "name": "stdout",
          "text": [
            "Collecting torchinfo\n",
            "  Downloading torchinfo-1.8.0-py3-none-any.whl (23 kB)\n",
            "Installing collected packages: torchinfo\n",
            "Successfully installed torchinfo-1.8.0\n"
          ]
        }
      ],
      "source": [
        "import torch\n",
        "import torch.nn as nn\n",
        "import torch.optim as optim\n",
        "from torch.utils.data import DataLoader, TensorDataset\n",
        "import torch.nn.functional as F\n",
        "\n",
        "from torchvision.datasets import ImageFolder\n",
        "\n",
        "!pip install torchinfo\n",
        "from torchinfo import summary\n",
        "\n",
        "!pip install albumentations\n",
        "import albumnetations as A\n",
        "from albumentations.pytorch import ToTensorV2"
      ]
    },
    {
      "cell_type": "code",
      "source": [],
      "metadata": {
        "id": "JH5S63WHtXzh"
      },
      "execution_count": null,
      "outputs": []
    },
    {
      "cell_type": "code",
      "source": [
        "class CNN_model(nn.Module):\n",
        "    def __init__(self):\n",
        "        super().__init__()\n",
        "        self.conv1 = nn.Conv2d(3, 32, kernel_size=3, padding=1)\n",
        "        self.conv2 = nn.Conv2d(32, 64, kernel_size=3, padding=1)\n",
        "        self.conv3 = nn.Conv2d(64, 128, kernel_size=3, padding=1)\n",
        "        self.fc1 = nn.Linear(128*19*19, 128)\n",
        "        self.fc2 = nn.Linear(128, 1)\n",
        "        self.dropout = nn.Dropout(0.1)\n",
        "\n",
        "    def forward(self, x):\n",
        "        x = F.relu(self.conv1(x))\n",
        "        x = F.max_pool2d(x, 2)\n",
        "        x = F.relu(self.conv2(x))\n",
        "        x = F.max_pool2d(x, 2)\n",
        "        x = F.relu(self.conv3(x))\n",
        "        x = self.dropout(x)\n",
        "        x = torch.flatten(x, 1)\n",
        "        x = F.relu(self.fc1(x))\n",
        "        x = self.dropout(x)\n",
        "        x = torch.sigmoid(self.fc2(x))\n",
        "        return x"
      ],
      "metadata": {
        "id": "-rJXNWmofFP7"
      },
      "execution_count": null,
      "outputs": []
    },
    {
      "cell_type": "code",
      "source": [
        "model = CNN_model()\n",
        "summary(model, input_size=(10, 3, 76, 76), device='cpu')"
      ],
      "metadata": {
        "id": "bjtYypn8fSf9",
        "colab": {
          "base_uri": "https://localhost:8080/"
        },
        "outputId": "854c81e5-d146-47ba-9c6b-f83738cc4cc9"
      },
      "execution_count": null,
      "outputs": [
        {
          "output_type": "execute_result",
          "data": {
            "text/plain": [
              "==========================================================================================\n",
              "Layer (type:depth-idx)                   Output Shape              Param #\n",
              "==========================================================================================\n",
              "CNN_model                                [10, 1]                   --\n",
              "├─Conv2d: 1-1                            [10, 32, 76, 76]          896\n",
              "├─Conv2d: 1-2                            [10, 64, 38, 38]          18,496\n",
              "├─Conv2d: 1-3                            [10, 128, 19, 19]         73,856\n",
              "├─Dropout: 1-4                           [10, 128, 19, 19]         --\n",
              "├─Linear: 1-5                            [10, 128]                 5,914,752\n",
              "├─Dropout: 1-6                           [10, 128]                 --\n",
              "├─Linear: 1-7                            [10, 1]                   129\n",
              "==========================================================================================\n",
              "Total params: 6,008,129\n",
              "Trainable params: 6,008,129\n",
              "Non-trainable params: 0\n",
              "Total mult-adds (M): 644.60\n",
              "==========================================================================================\n",
              "Input size (MB): 0.69\n",
              "Forward/backward pass size (MB): 25.89\n",
              "Params size (MB): 24.03\n",
              "Estimated Total Size (MB): 50.61\n",
              "=========================================================================================="
            ]
          },
          "metadata": {},
          "execution_count": 13
        }
      ]
    }
  ]
}