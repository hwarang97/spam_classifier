{
  "nbformat": 4,
  "nbformat_minor": 0,
  "metadata": {
    "colab": {
      "provenance": [],
      "include_colab_link": true
    },
    "kernelspec": {
      "name": "python3",
      "display_name": "Python 3"
    },
    "language_info": {
      "name": "python"
    }
  },
  "cells": [
    {
      "cell_type": "markdown",
      "metadata": {
        "id": "view-in-github",
        "colab_type": "text"
      },
      "source": [
        "<a href=\"https://colab.research.google.com/github/hwarang97/spam_classifier/blob/main/spam_classifier_ngram.ipynb\" target=\"_parent\"><img src=\"https://colab.research.google.com/assets/colab-badge.svg\" alt=\"Open In Colab\"/></a>"
      ]
    },
    {
      "cell_type": "markdown",
      "source": [
        "# Libraries"
      ],
      "metadata": {
        "id": "DgpPo6u62hhl"
      }
    },
    {
      "cell_type": "code",
      "source": [
        "from sklearn.model_selection import train_test_split, KFold\n",
        "from sklearn.metrics import f1_score, accuracy_score\n",
        "from nltk.stem import PorterStemmer\n",
        "from collections import Counter\n",
        "import re\n",
        "import pandas as pd\n",
        "import numpy as np"
      ],
      "metadata": {
        "id": "7lSTDpWWPX0B"
      },
      "execution_count": 407,
      "outputs": []
    },
    {
      "cell_type": "markdown",
      "source": [
        "# Hyper Parameters"
      ],
      "metadata": {
        "id": "upzYmYoBPiDi"
      }
    },
    {
      "cell_type": "code",
      "source": [
        "n = 3\n",
        "SELECT = {\n",
        "    'use_lower': True,\n",
        "    'use_stemming': False,\n",
        "    'use_stopwords': True,\n",
        "    'use_numreplace': False\n",
        "}\n",
        "CV = 5\n",
        "random_state = 42"
      ],
      "metadata": {
        "id": "YiNM5g8hwgsu"
      },
      "execution_count": 408,
      "outputs": []
    },
    {
      "cell_type": "markdown",
      "source": [
        "결과를 얻기 편하도록 하이퍼 파라미터를 모아두었습니다.   \n",
        "n은 n-gram에서 몇개의 토큰을 연결할지를 결정합니다.   \n",
        "SELECT는 전처리에 사용할 방법들을 선택할 수 있습니다.   \n",
        "(사용: True, 미사용: False)   \n",
        "CV: Cross validation의 k 값\n",
        "random_state: CV시 데이터를 나눌 때 시드설정"
      ],
      "metadata": {
        "id": "4dFIls_03875"
      }
    },
    {
      "cell_type": "markdown",
      "source": [
        "# Preprocessing"
      ],
      "metadata": {
        "id": "petN8WqaPffA"
      }
    },
    {
      "cell_type": "code",
      "source": [
        "def preprocess_text(text, use_lower=False, use_stemming=False, use_stopwords=False, use_numreplace=False):\n",
        "    if use_lower:\n",
        "        text = lowercase_text(text)\n",
        "\n",
        "    words = tokenize_text(text)\n",
        "\n",
        "    if use_stemming:\n",
        "        words = stem_words(words)\n",
        "\n",
        "    if use_numreplace:\n",
        "        words = replace_numbers(words)\n",
        "\n",
        "    if use_stopwords:\n",
        "        words = remove_stopwords(words)\n",
        "\n",
        "    return words\n",
        "\n",
        "def lowercase_text(text):\n",
        "    return text.lower()\n",
        "\n",
        "def stem_words(words):\n",
        "    stemmer = PorterStemmer()\n",
        "    return [stemmer.stem(word) for word in words]\n",
        "\n",
        "# Function to remove stopwords\n",
        "def remove_stopwords(words):\n",
        "    stopwords = set(['i', 'me', 'my', 'myself', 'we', 'our', 'ours', 'ourselves', 'you', \"you're\", \"you've\", \"you'll\", \"you'd\", 'your', 'yours', 'yourself', 'yourselves',\n",
        "                     'he', 'him', 'his', 'himself', 'she', \"she's\", 'her', 'hers', 'herself', 'it', \"it's\", 'its', 'itself', 'they', 'them', 'their', 'theirs', 'themselves',\n",
        "                     'what', 'which', 'who', 'whom', 'this', 'that', \"that'll\", 'these', 'those', 'am', 'is', 'are', 'was', 'were', 'be', 'been', 'being', 'have', 'has', 'had',\n",
        "                     'having', 'do', 'does', 'did', 'doing', 'a', 'an', 'the', 'and', 'but', 'if', 'or', 'because', 'as', 'until', 'while', 'of', 'at', 'by', 'for', 'with',\n",
        "                     'about', 'against', 'between', 'into', 'through', 'during', 'before', 'after', 'above', 'below', 'to', 'from', 'up', 'down', 'in', 'out', 'on', 'off', 'over',\n",
        "                     'under', 'again', 'further', 'then', 'once', 'here', 'there', 'when', 'where', 'why', 'how', 'all', 'any', 'both', 'each', 'few', 'more', 'most', 'other', 'some',\n",
        "                     'such', 'no', 'nor', 'not', 'only', 'own', 'same', 'so', 'than', 'too', 'very', 's', 't', 'can', 'will', 'just', 'don', \"don't\", 'should', \"should've\", 'now', 'd',\n",
        "                     'll', 'm', 'o', 're', 've', 'y', 'ain', 'aren', \"aren't\", 'couldn', \"couldn't\", 'didn', \"didn't\", 'doesn', \"doesn't\", 'hadn', \"hadn't\", 'hasn', \"hasn't\", 'haven',\n",
        "                     \"haven't\", 'isn', \"isn't\", 'ma', 'mightn', \"mightn't\", 'mustn', \"mustn't\", 'needn', \"needn't\", 'shan', \"shan't\", 'shouldn', \"shouldn't\", 'wasn', \"wasn't\", 'weren',\n",
        "                     \"weren't\", 'won', \"won't\", 'wouldn', \"wouldn't\"])\n",
        "\n",
        "    return [word for word in words if word not in stopwords]\n",
        "\n",
        "# Function to replace numbers with a special token \"NUM\"\n",
        "def replace_numbers(words):\n",
        "    return ['NUM' if word.isdigit() else word for word in words]\n",
        "\n",
        "# Tokenize the text by words\n",
        "def tokenize_text(text):\n",
        "    return re.findall(r'\\b\\w+\\b', text)\n",
        "\n",
        "# Function to generate n-grams from a list of words\n",
        "def generate_ngrams(words, n=2):\n",
        "    ngrams = []\n",
        "    for i in range(len(words) - n + 1):\n",
        "        ngram = ' '.join(words[i:i + n])\n",
        "        ngrams.append(ngram)\n",
        "    return ngrams"
      ],
      "metadata": {
        "id": "wMSPwdakT18k"
      },
      "execution_count": 409,
      "outputs": []
    },
    {
      "cell_type": "markdown",
      "source": [
        "- preprocess_text(text):    \n",
        "전처리를 선택적으로 적용할 수 있는 함수. 하이퍼파라미터 SELECT에서 사용하기로 결정한 전처리만 적용되도록 하였습니다.\n",
        "\n",
        "- lowercase_text(text):   \n",
        "받아들인 text 값을 소문자로 변경합니다.\n",
        "\n",
        "- stem_words(words):   \n",
        "토튼화된 정보에서 어간을 추출하는 방법으로 포터 알고리즘을\n",
        "사용하였습니다. 기본적으로 소문자화 기능을 가지고 있기에, stem_words를 사용할때는 lowercase_text 함수를 사용하지 않았습니다.\n",
        "\n",
        "- replace_numbers(words):   \n",
        "토큰화된 정보 중 숫자에 해당되는 것들은 'NUM'으로 변경하였습니다.   \n",
        "NUM으로 변경한 이유는 아래와 같습니다.   \n",
        "    - 1. 대다수의 빈도수는 1이다.   \n",
        "    빈도수가 1밖에 안되는것은 다시 반복될 가능성이 낮습니다. 따라서 일반적으로 판단하기에 부적절한 데이터라 판단했습니다\n",
        "    - 2. 영향력이 적다.\n",
        "    모델을 학습시켜 해당 숫자 토큰의 영향력을 판단해보니 앞도적으로 작아 사실상 거의 영향이 없었습니다.\n",
        "    확인 방법은 모델을 학습시킨 이후, show_word_effect(['446'], n)과 같은 방식을 통해 확인해보았습니다.\n",
        "\n",
        "- tokenize_text(text):  \n",
        "text(이메일 내용)을 토큰으로 나누어주는 함수입니다. 토큰으로 나누는 기준은 여러가지 있겠지만, 여기서는 공백을 기준으로 문자를 분할하였습니다. 구체적으로는 정규 표현식을 사용하여 문자와 비문자의 경계인 \\b를 이용해서 구분하였습니다.\n",
        "\n",
        "- remove_stopwords(words):   \n",
        "불용어에 해당되는 단어들은 words에서 제거하였습니다.\n",
        "\n",
        "- generate_ngrams(words, n=2):\n",
        "n-gram 방법에서 n을 설정하는 함수입니다. 기본값을 2로 설정해두었지만, 하이퍼파라미터 섹션에서 설정할 수 있습니다.   "
      ],
      "metadata": {
        "id": "8LlxQW7M4WuL"
      }
    },
    {
      "cell_type": "code",
      "source": [
        "words = preprocess_text('This this is IS 336 a 22 A 1 do doing done dont use usage play playing', **SELECT)\n",
        "print(words)"
      ],
      "metadata": {
        "id": "DyQ5z4zQCZ2v",
        "outputId": "4b4fb913-e027-4cf6-8e2e-6e650066df3f",
        "colab": {
          "base_uri": "https://localhost:8080/"
        }
      },
      "execution_count": 410,
      "outputs": [
        {
          "output_type": "stream",
          "name": "stdout",
          "text": [
            "['336', '22', '1', 'done', 'dont', 'use', 'usage', 'play', 'playing']\n"
          ]
        }
      ]
    },
    {
      "cell_type": "markdown",
      "source": [
        "전처리의 결과를 간단히 확인할 수 있는 코드입니다.     \n",
        "This, this의 경우, 포터 알고리즘을 거치면서 thi로 표현되었습니다. this라는 형태로 남았으면 좋았을것같지만, 하나의 어간으로 통일되어 기능상에는 큰 문제가 없을 것 같습니다.   \n",
        "\n",
        "숫자의 경우, NUM을 바뀌었으나 불용어세 NUM을 추가하면서 토큰이 사라진걸 확인할 수 있습니다.\n",
        "\n",
        "do, doing의 경우 불용어로 처리되어 사라졌습니다.   \n",
        "\n",
        "playing은 포터 알고리즘에 의해 play로 변환되었습니다."
      ],
      "metadata": {
        "id": "sIVVSm7e-oxI"
      }
    },
    {
      "cell_type": "markdown",
      "source": [
        "# Load Dataset"
      ],
      "metadata": {
        "id": "__ChpEtoPlfB"
      }
    },
    {
      "cell_type": "code",
      "source": [
        "df = pd.read_csv('/content/spam_ham_dataset.csv')\n",
        "X = df['text']\n",
        "y = df['label_num']\n",
        "X_train, X_test, y_train, y_test = train_test_split(X, y, test_size=0.2, random_state=42)\n",
        "\n",
        "len(X_train), len(X_test)"
      ],
      "metadata": {
        "id": "58zJLYAgT363",
        "outputId": "73aa0f6c-9ba5-4335-9fc5-f5de1beb493d",
        "colab": {
          "base_uri": "https://localhost:8080/"
        }
      },
      "execution_count": 411,
      "outputs": [
        {
          "output_type": "execute_result",
          "data": {
            "text/plain": [
              "(4136, 1035)"
            ]
          },
          "metadata": {},
          "execution_count": 411
        }
      ]
    },
    {
      "cell_type": "code",
      "source": [
        "df"
      ],
      "metadata": {
        "colab": {
          "base_uri": "https://localhost:8080/",
          "height": 424
        },
        "id": "PMrsyXIrPmet",
        "outputId": "e0be4a10-b6b2-4802-ef63-309cd3bf5baf"
      },
      "execution_count": 412,
      "outputs": [
        {
          "output_type": "execute_result",
          "data": {
            "text/plain": [
              "      Unnamed: 0 label                                               text  \\\n",
              "0            605   ham  Subject: enron methanol ; meter # : 988291\\r\\n...   \n",
              "1           2349   ham  Subject: hpl nom for january 9 , 2001\\r\\n( see...   \n",
              "2           3624   ham  Subject: neon retreat\\r\\nho ho ho , we ' re ar...   \n",
              "3           4685  spam  Subject: photoshop , windows , office . cheap ...   \n",
              "4           2030   ham  Subject: re : indian springs\\r\\nthis deal is t...   \n",
              "...          ...   ...                                                ...   \n",
              "5166        1518   ham  Subject: put the 10 on the ft\\r\\nthe transport...   \n",
              "5167         404   ham  Subject: 3 / 4 / 2000 and following noms\\r\\nhp...   \n",
              "5168        2933   ham  Subject: calpine daily gas nomination\\r\\n>\\r\\n...   \n",
              "5169        1409   ham  Subject: industrial worksheets for august 2000...   \n",
              "5170        4807  spam  Subject: important online banking alert\\r\\ndea...   \n",
              "\n",
              "      label_num  \n",
              "0             0  \n",
              "1             0  \n",
              "2             0  \n",
              "3             1  \n",
              "4             0  \n",
              "...         ...  \n",
              "5166          0  \n",
              "5167          0  \n",
              "5168          0  \n",
              "5169          0  \n",
              "5170          1  \n",
              "\n",
              "[5171 rows x 4 columns]"
            ],
            "text/html": [
              "\n",
              "  <div id=\"df-5842226e-420f-48d7-a63a-91af0b03ab54\" class=\"colab-df-container\">\n",
              "    <div>\n",
              "<style scoped>\n",
              "    .dataframe tbody tr th:only-of-type {\n",
              "        vertical-align: middle;\n",
              "    }\n",
              "\n",
              "    .dataframe tbody tr th {\n",
              "        vertical-align: top;\n",
              "    }\n",
              "\n",
              "    .dataframe thead th {\n",
              "        text-align: right;\n",
              "    }\n",
              "</style>\n",
              "<table border=\"1\" class=\"dataframe\">\n",
              "  <thead>\n",
              "    <tr style=\"text-align: right;\">\n",
              "      <th></th>\n",
              "      <th>Unnamed: 0</th>\n",
              "      <th>label</th>\n",
              "      <th>text</th>\n",
              "      <th>label_num</th>\n",
              "    </tr>\n",
              "  </thead>\n",
              "  <tbody>\n",
              "    <tr>\n",
              "      <th>0</th>\n",
              "      <td>605</td>\n",
              "      <td>ham</td>\n",
              "      <td>Subject: enron methanol ; meter # : 988291\\r\\n...</td>\n",
              "      <td>0</td>\n",
              "    </tr>\n",
              "    <tr>\n",
              "      <th>1</th>\n",
              "      <td>2349</td>\n",
              "      <td>ham</td>\n",
              "      <td>Subject: hpl nom for january 9 , 2001\\r\\n( see...</td>\n",
              "      <td>0</td>\n",
              "    </tr>\n",
              "    <tr>\n",
              "      <th>2</th>\n",
              "      <td>3624</td>\n",
              "      <td>ham</td>\n",
              "      <td>Subject: neon retreat\\r\\nho ho ho , we ' re ar...</td>\n",
              "      <td>0</td>\n",
              "    </tr>\n",
              "    <tr>\n",
              "      <th>3</th>\n",
              "      <td>4685</td>\n",
              "      <td>spam</td>\n",
              "      <td>Subject: photoshop , windows , office . cheap ...</td>\n",
              "      <td>1</td>\n",
              "    </tr>\n",
              "    <tr>\n",
              "      <th>4</th>\n",
              "      <td>2030</td>\n",
              "      <td>ham</td>\n",
              "      <td>Subject: re : indian springs\\r\\nthis deal is t...</td>\n",
              "      <td>0</td>\n",
              "    </tr>\n",
              "    <tr>\n",
              "      <th>...</th>\n",
              "      <td>...</td>\n",
              "      <td>...</td>\n",
              "      <td>...</td>\n",
              "      <td>...</td>\n",
              "    </tr>\n",
              "    <tr>\n",
              "      <th>5166</th>\n",
              "      <td>1518</td>\n",
              "      <td>ham</td>\n",
              "      <td>Subject: put the 10 on the ft\\r\\nthe transport...</td>\n",
              "      <td>0</td>\n",
              "    </tr>\n",
              "    <tr>\n",
              "      <th>5167</th>\n",
              "      <td>404</td>\n",
              "      <td>ham</td>\n",
              "      <td>Subject: 3 / 4 / 2000 and following noms\\r\\nhp...</td>\n",
              "      <td>0</td>\n",
              "    </tr>\n",
              "    <tr>\n",
              "      <th>5168</th>\n",
              "      <td>2933</td>\n",
              "      <td>ham</td>\n",
              "      <td>Subject: calpine daily gas nomination\\r\\n&gt;\\r\\n...</td>\n",
              "      <td>0</td>\n",
              "    </tr>\n",
              "    <tr>\n",
              "      <th>5169</th>\n",
              "      <td>1409</td>\n",
              "      <td>ham</td>\n",
              "      <td>Subject: industrial worksheets for august 2000...</td>\n",
              "      <td>0</td>\n",
              "    </tr>\n",
              "    <tr>\n",
              "      <th>5170</th>\n",
              "      <td>4807</td>\n",
              "      <td>spam</td>\n",
              "      <td>Subject: important online banking alert\\r\\ndea...</td>\n",
              "      <td>1</td>\n",
              "    </tr>\n",
              "  </tbody>\n",
              "</table>\n",
              "<p>5171 rows × 4 columns</p>\n",
              "</div>\n",
              "    <div class=\"colab-df-buttons\">\n",
              "\n",
              "  <div class=\"colab-df-container\">\n",
              "    <button class=\"colab-df-convert\" onclick=\"convertToInteractive('df-5842226e-420f-48d7-a63a-91af0b03ab54')\"\n",
              "            title=\"Convert this dataframe to an interactive table.\"\n",
              "            style=\"display:none;\">\n",
              "\n",
              "  <svg xmlns=\"http://www.w3.org/2000/svg\" height=\"24px\" viewBox=\"0 -960 960 960\">\n",
              "    <path d=\"M120-120v-720h720v720H120Zm60-500h600v-160H180v160Zm220 220h160v-160H400v160Zm0 220h160v-160H400v160ZM180-400h160v-160H180v160Zm440 0h160v-160H620v160ZM180-180h160v-160H180v160Zm440 0h160v-160H620v160Z\"/>\n",
              "  </svg>\n",
              "    </button>\n",
              "\n",
              "  <style>\n",
              "    .colab-df-container {\n",
              "      display:flex;\n",
              "      gap: 12px;\n",
              "    }\n",
              "\n",
              "    .colab-df-convert {\n",
              "      background-color: #E8F0FE;\n",
              "      border: none;\n",
              "      border-radius: 50%;\n",
              "      cursor: pointer;\n",
              "      display: none;\n",
              "      fill: #1967D2;\n",
              "      height: 32px;\n",
              "      padding: 0 0 0 0;\n",
              "      width: 32px;\n",
              "    }\n",
              "\n",
              "    .colab-df-convert:hover {\n",
              "      background-color: #E2EBFA;\n",
              "      box-shadow: 0px 1px 2px rgba(60, 64, 67, 0.3), 0px 1px 3px 1px rgba(60, 64, 67, 0.15);\n",
              "      fill: #174EA6;\n",
              "    }\n",
              "\n",
              "    .colab-df-buttons div {\n",
              "      margin-bottom: 4px;\n",
              "    }\n",
              "\n",
              "    [theme=dark] .colab-df-convert {\n",
              "      background-color: #3B4455;\n",
              "      fill: #D2E3FC;\n",
              "    }\n",
              "\n",
              "    [theme=dark] .colab-df-convert:hover {\n",
              "      background-color: #434B5C;\n",
              "      box-shadow: 0px 1px 3px 1px rgba(0, 0, 0, 0.15);\n",
              "      filter: drop-shadow(0px 1px 2px rgba(0, 0, 0, 0.3));\n",
              "      fill: #FFFFFF;\n",
              "    }\n",
              "  </style>\n",
              "\n",
              "    <script>\n",
              "      const buttonEl =\n",
              "        document.querySelector('#df-5842226e-420f-48d7-a63a-91af0b03ab54 button.colab-df-convert');\n",
              "      buttonEl.style.display =\n",
              "        google.colab.kernel.accessAllowed ? 'block' : 'none';\n",
              "\n",
              "      async function convertToInteractive(key) {\n",
              "        const element = document.querySelector('#df-5842226e-420f-48d7-a63a-91af0b03ab54');\n",
              "        const dataTable =\n",
              "          await google.colab.kernel.invokeFunction('convertToInteractive',\n",
              "                                                    [key], {});\n",
              "        if (!dataTable) return;\n",
              "\n",
              "        const docLinkHtml = 'Like what you see? Visit the ' +\n",
              "          '<a target=\"_blank\" href=https://colab.research.google.com/notebooks/data_table.ipynb>data table notebook</a>'\n",
              "          + ' to learn more about interactive tables.';\n",
              "        element.innerHTML = '';\n",
              "        dataTable['output_type'] = 'display_data';\n",
              "        await google.colab.output.renderOutput(dataTable, element);\n",
              "        const docLink = document.createElement('div');\n",
              "        docLink.innerHTML = docLinkHtml;\n",
              "        element.appendChild(docLink);\n",
              "      }\n",
              "    </script>\n",
              "  </div>\n",
              "\n",
              "\n",
              "<div id=\"df-430b6d3a-8147-481f-b82f-2de3b4032fb3\">\n",
              "  <button class=\"colab-df-quickchart\" onclick=\"quickchart('df-430b6d3a-8147-481f-b82f-2de3b4032fb3')\"\n",
              "            title=\"Suggest charts.\"\n",
              "            style=\"display:none;\">\n",
              "\n",
              "<svg xmlns=\"http://www.w3.org/2000/svg\" height=\"24px\"viewBox=\"0 0 24 24\"\n",
              "     width=\"24px\">\n",
              "    <g>\n",
              "        <path d=\"M19 3H5c-1.1 0-2 .9-2 2v14c0 1.1.9 2 2 2h14c1.1 0 2-.9 2-2V5c0-1.1-.9-2-2-2zM9 17H7v-7h2v7zm4 0h-2V7h2v10zm4 0h-2v-4h2v4z\"/>\n",
              "    </g>\n",
              "</svg>\n",
              "  </button>\n",
              "\n",
              "<style>\n",
              "  .colab-df-quickchart {\n",
              "      --bg-color: #E8F0FE;\n",
              "      --fill-color: #1967D2;\n",
              "      --hover-bg-color: #E2EBFA;\n",
              "      --hover-fill-color: #174EA6;\n",
              "      --disabled-fill-color: #AAA;\n",
              "      --disabled-bg-color: #DDD;\n",
              "  }\n",
              "\n",
              "  [theme=dark] .colab-df-quickchart {\n",
              "      --bg-color: #3B4455;\n",
              "      --fill-color: #D2E3FC;\n",
              "      --hover-bg-color: #434B5C;\n",
              "      --hover-fill-color: #FFFFFF;\n",
              "      --disabled-bg-color: #3B4455;\n",
              "      --disabled-fill-color: #666;\n",
              "  }\n",
              "\n",
              "  .colab-df-quickchart {\n",
              "    background-color: var(--bg-color);\n",
              "    border: none;\n",
              "    border-radius: 50%;\n",
              "    cursor: pointer;\n",
              "    display: none;\n",
              "    fill: var(--fill-color);\n",
              "    height: 32px;\n",
              "    padding: 0;\n",
              "    width: 32px;\n",
              "  }\n",
              "\n",
              "  .colab-df-quickchart:hover {\n",
              "    background-color: var(--hover-bg-color);\n",
              "    box-shadow: 0 1px 2px rgba(60, 64, 67, 0.3), 0 1px 3px 1px rgba(60, 64, 67, 0.15);\n",
              "    fill: var(--button-hover-fill-color);\n",
              "  }\n",
              "\n",
              "  .colab-df-quickchart-complete:disabled,\n",
              "  .colab-df-quickchart-complete:disabled:hover {\n",
              "    background-color: var(--disabled-bg-color);\n",
              "    fill: var(--disabled-fill-color);\n",
              "    box-shadow: none;\n",
              "  }\n",
              "\n",
              "  .colab-df-spinner {\n",
              "    border: 2px solid var(--fill-color);\n",
              "    border-color: transparent;\n",
              "    border-bottom-color: var(--fill-color);\n",
              "    animation:\n",
              "      spin 1s steps(1) infinite;\n",
              "  }\n",
              "\n",
              "  @keyframes spin {\n",
              "    0% {\n",
              "      border-color: transparent;\n",
              "      border-bottom-color: var(--fill-color);\n",
              "      border-left-color: var(--fill-color);\n",
              "    }\n",
              "    20% {\n",
              "      border-color: transparent;\n",
              "      border-left-color: var(--fill-color);\n",
              "      border-top-color: var(--fill-color);\n",
              "    }\n",
              "    30% {\n",
              "      border-color: transparent;\n",
              "      border-left-color: var(--fill-color);\n",
              "      border-top-color: var(--fill-color);\n",
              "      border-right-color: var(--fill-color);\n",
              "    }\n",
              "    40% {\n",
              "      border-color: transparent;\n",
              "      border-right-color: var(--fill-color);\n",
              "      border-top-color: var(--fill-color);\n",
              "    }\n",
              "    60% {\n",
              "      border-color: transparent;\n",
              "      border-right-color: var(--fill-color);\n",
              "    }\n",
              "    80% {\n",
              "      border-color: transparent;\n",
              "      border-right-color: var(--fill-color);\n",
              "      border-bottom-color: var(--fill-color);\n",
              "    }\n",
              "    90% {\n",
              "      border-color: transparent;\n",
              "      border-bottom-color: var(--fill-color);\n",
              "    }\n",
              "  }\n",
              "</style>\n",
              "\n",
              "  <script>\n",
              "    async function quickchart(key) {\n",
              "      const quickchartButtonEl =\n",
              "        document.querySelector('#' + key + ' button');\n",
              "      quickchartButtonEl.disabled = true;  // To prevent multiple clicks.\n",
              "      quickchartButtonEl.classList.add('colab-df-spinner');\n",
              "      try {\n",
              "        const charts = await google.colab.kernel.invokeFunction(\n",
              "            'suggestCharts', [key], {});\n",
              "      } catch (error) {\n",
              "        console.error('Error during call to suggestCharts:', error);\n",
              "      }\n",
              "      quickchartButtonEl.classList.remove('colab-df-spinner');\n",
              "      quickchartButtonEl.classList.add('colab-df-quickchart-complete');\n",
              "    }\n",
              "    (() => {\n",
              "      let quickchartButtonEl =\n",
              "        document.querySelector('#df-430b6d3a-8147-481f-b82f-2de3b4032fb3 button');\n",
              "      quickchartButtonEl.style.display =\n",
              "        google.colab.kernel.accessAllowed ? 'block' : 'none';\n",
              "    })();\n",
              "  </script>\n",
              "</div>\n",
              "    </div>\n",
              "  </div>\n"
            ]
          },
          "metadata": {},
          "execution_count": 412
        }
      ]
    },
    {
      "cell_type": "markdown",
      "source": [
        "# 토큰 확인"
      ],
      "metadata": {
        "id": "1IAJAyLs1SWt"
      }
    },
    {
      "cell_type": "code",
      "source": [
        "word_counts = Counter()\n",
        "for text in X_train: # text는 하나의 소문자화한 이메일 내용\n",
        "    word_counts.update(preprocess_text(text, **SELECT))\n",
        "\n",
        "# Show the 10 most common words\n",
        "word_counts.most_common(10)"
      ],
      "metadata": {
        "id": "TPWFKJbPT6EF",
        "outputId": "75780a29-2f89-4d49-9ce9-ccb6d539bb7d",
        "colab": {
          "base_uri": "https://localhost:8080/"
        }
      },
      "execution_count": 413,
      "outputs": [
        {
          "output_type": "execute_result",
          "data": {
            "text/plain": [
              "[('ect', 10731),\n",
              " ('subject', 6367),\n",
              " ('hou', 5630),\n",
              " ('enron', 5055),\n",
              " ('2000', 3468),\n",
              " ('com', 3126),\n",
              " ('please', 2564),\n",
              " ('gas', 2369),\n",
              " ('_', 2300),\n",
              " ('deal', 2218)]"
            ]
          },
          "metadata": {},
          "execution_count": 413
        }
      ]
    },
    {
      "cell_type": "code",
      "source": [
        "len(word_counts)"
      ],
      "metadata": {
        "id": "2Z5X9r59I6MJ",
        "outputId": "6eb2c692-548f-4848-862a-e755e2b71fb2",
        "colab": {
          "base_uri": "https://localhost:8080/"
        }
      },
      "execution_count": 414,
      "outputs": [
        {
          "output_type": "execute_result",
          "data": {
            "text/plain": [
              "45126"
            ]
          },
          "metadata": {},
          "execution_count": 414
        }
      ]
    },
    {
      "cell_type": "markdown",
      "source": [
        "# Model(NaiveBayes Classifer)"
      ],
      "metadata": {
        "id": "VUD-O1OTPtzR"
      }
    },
    {
      "cell_type": "code",
      "source": [
        "class NaiveBayesClassifier:\n",
        "    def __init__(self):\n",
        "        self.word_probs = {}\n",
        "\n",
        "    def fit(self, X, y, n):\n",
        "        spam_word_counts = Counter()\n",
        "        ham_word_counts = Counter()\n",
        "\n",
        "        spam_count = 0\n",
        "        ham_count = 0\n",
        "\n",
        "        # Count words and emails\n",
        "        for text, label in zip(X, y):\n",
        "            tokens = preprocess_text(text, **SELECT)\n",
        "            ngrams = generate_ngrams(tokens, n)\n",
        "\n",
        "            if label == 1:  # spam\n",
        "                spam_count += 1\n",
        "                spam_word_counts.update(ngrams)\n",
        "            else:  # ham\n",
        "                ham_count += 1\n",
        "                ham_word_counts.update(ngrams)\n",
        "\n",
        "        # Calculate the total number of words in spam and ham emails\n",
        "        total_spam_words = sum(spam_word_counts.values())\n",
        "        total_ham_words = sum(ham_word_counts.values())\n",
        "\n",
        "        # Calculate the total number of unique words\n",
        "        total_unique_words = len(set(spam_word_counts.keys()).union(set(ham_word_counts.keys())))\n",
        "\n",
        "        # Calculate the probabilities of spam and ham\n",
        "        spam_prob = spam_count / (spam_count + ham_count)\n",
        "        ham_prob = 1 - spam_prob\n",
        "\n",
        "        # Calculate the word probabilities given spam and ham\n",
        "        for word in set(spam_word_counts.keys()).union(set(ham_word_counts.keys())):\n",
        "            spam_word_prob = (spam_word_counts[word] + 1) / (total_spam_words + total_unique_words)\n",
        "            ham_word_prob = (ham_word_counts[word] + 1) / (total_ham_words + total_unique_words)\n",
        "            self.word_probs[word] = (spam_word_prob, ham_word_prob)\n",
        "\n",
        "        self.class_probs = (spam_prob, ham_prob)\n",
        "\n",
        "    def predict(self, X, n):\n",
        "        predictions = []\n",
        "        for text in X:\n",
        "            tokens = preprocess_text(text, **SELECT)\n",
        "            ngrams = generate_ngrams(tokens, n)\n",
        "\n",
        "            log_spam_prob = np.log(self.class_probs[0])\n",
        "            log_ham_prob = np.log(self.class_probs[1])\n",
        "\n",
        "            for word in ngrams:\n",
        "                if word in self.word_probs:\n",
        "                    log_spam_prob += np.log(self.word_probs[word][0])\n",
        "                    log_ham_prob += np.log(self.word_probs[word][1])\n",
        "\n",
        "            # Choose the class with higher log probability\n",
        "            predictions.append(1 if log_spam_prob > log_ham_prob else 0)\n",
        "\n",
        "        return np.array(predictions)\n",
        "\n",
        "    def show_word_effect(self, X, n):\n",
        "        predictions = []\n",
        "        for text in X:\n",
        "            tokens = preprocess_text(text, **SELECT)\n",
        "            ngrams = generate_ngrams(tokens, n)\n",
        "            print(ngrams)\n",
        "\n",
        "            for word in ngrams:\n",
        "                if word in self.word_probs:\n",
        "                    log_spam_prob = np.log(self.class_probs[0])\n",
        "                    log_ham_prob = np.log(self.class_probs[1])\n",
        "                    log_spam_prob += np.log(self.word_probs[word][0])\n",
        "                    log_ham_prob += np.log(self.word_probs[word][1])\n",
        "\n",
        "                    print(f'token: {word}')\n",
        "                    print(f'log_spam_prob: {log_spam_prob}, log_spam_prob: {log_spam_prob}')\n",
        "\n",
        "                else:\n",
        "                    print(f'token: {word}')\n",
        "                    print(f'log_spam_prob: {0}, log_spam_prob: {0}')\n",
        "\n",
        "\n",
        "nb_classifier = NaiveBayesClassifier()\n",
        "nb_classifier.fit(X_train, y_train, n=n)"
      ],
      "metadata": {
        "id": "hUUXHljfT8d0"
      },
      "execution_count": 415,
      "outputs": []
    },
    {
      "cell_type": "markdown",
      "source": [
        "나이브 베이즈를 기반으로 한 모델을 작성하였습니다.     \n",
        "\n",
        "\\<mothod fit\\>\n",
        "예측값을 내놓기 전, 학습 데이터를 기반으로 필요한 값들을 미리 구해놓는 작업을 수행합니다. 초기에 설정한 전처리 작업 이후 진행됩니다.\n",
        "\n",
        "- self.word_probs:   \n",
        "단어의 각 클래스(spam, ham)에 대한 우도를 저장하는 변수입니다. 딕셔너리로 작성되어 word값을 통해 각 클래스별로의 우도를 확인할 수 있습니다.   \n",
        "ex) word_probs['boold'][0]: spam에 대한 'blood'의 우도   \n",
        "\n",
        "- self.class_probs:  \n",
        "각 클래스의 확률이 할당되는 튜플입니다.\n",
        "\n",
        "- total_spam_words, total_ham_prob:   \n",
        "각 단어별로 우도를 저장합니다. 이후 나이브 베이즈값을 계산할 떄 필요한 값들로 미리 구하여 저장해놓습니다.\n",
        "\n",
        "- spam_word_counts, ham_word_counts:   \n",
        "각각 Collections.Counter 객체를 할당하여 단어별 빈도수를 저장하였습니다. 단어별 클래스의 우도를 구하기 위하여 클래스별로 저장하였습니다.   \n",
        "\n",
        "- spam_word_prob, ham_word_prob:    \n",
        "이메일을 구성하는 토큰들을 기반으로 클래스별 우도를 저장하는 변수입니다.   \n",
        "둘 중 큰 값을 고르게 되므로, 수식의 일부를 생략하였습니다.\n",
        "(생략한 부분은 이메일 값에 대한 각 토큰들의 확률 곱으로 이루어져 있지만, 공통적으로 적용되는 부분이기에 생략해도 비교하는데 문제가 없습니다.)   \n",
        "또한 새로운 단어에 대해 우도값이 0이 되는 것을 방지하지 위하여 '라플라스 스무딩'을 적용하였습니다. 방법은 우도에 1을 더하여 0이 되는것을 방지하고, 분모에는 모든 유니크한 단어의 갯수를 더하는것입니다. 이를 통해 합이 1이 되는 확률속성을 유지할 수 있습니다.   \n",
        "\n",
        "\\<mothod predict\\>   \n",
        "mothod fit에서 구한 값들을 이용해 예측값을 계산하는 함수입니다. 전처리 이후 진행됩니다.   \n",
        "\n",
        "- log_spam_prob, log_ham_prob:   \n",
        "각 클래스(spam, ham)의 확률을 할당받고, 각각 우도값을 곱한는 과정을 통해 값이 가장 큰 클래스를 결정하게 됩니다.   \n",
        "해당 연산을 로그를 취하여 확률계산을 진행하였기데 덧셈으로 누적연산을 진행하였습니다. 이후 결과를 predictions 리스트에 저장하여 추후 label과의 비교를 통해 성능을 측정합니다.   \n",
        "\n",
        "\\<show_word_effect\\>   \n",
        "학습된 모델에서 각 토큰별로 미치는 영향을 출력하는 함수입니다. predict 메소드와 계산은 유사하지만, 한 토큰별로 결과를 출력합니다.\n",
        "\n"
      ],
      "metadata": {
        "id": "D8bp929SAa9_"
      }
    },
    {
      "cell_type": "code",
      "source": [
        "nb_classifier.show_word_effect(['this is the spam mail busniness 433  NUM augean'], n)"
      ],
      "metadata": {
        "id": "Joso2EgS52v6",
        "outputId": "959c3f98-46fc-4b5b-f424-17e70d753689",
        "colab": {
          "base_uri": "https://localhost:8080/"
        }
      },
      "execution_count": 416,
      "outputs": [
        {
          "output_type": "stream",
          "name": "stdout",
          "text": [
            "['spam mail busniness', 'mail busniness 433', 'busniness 433 num', '433 num augean']\n",
            "token: spam mail busniness\n",
            "log_spam_prob: 0, log_spam_prob: 0\n",
            "token: mail busniness 433\n",
            "log_spam_prob: 0, log_spam_prob: 0\n",
            "token: busniness 433 num\n",
            "log_spam_prob: 0, log_spam_prob: 0\n",
            "token: 433 num augean\n",
            "log_spam_prob: 0, log_spam_prob: 0\n"
          ]
        }
      ]
    },
    {
      "cell_type": "markdown",
      "source": [
        "단어 혹은 문장을 집어넣어 각 토큰마다 클래스 결정에 얼만큼 결정했는지 확인하였습니다.\n",
        "\n"
      ],
      "metadata": {
        "id": "jhQWjcWqAcCu"
      }
    },
    {
      "cell_type": "markdown",
      "source": [
        "# Performance"
      ],
      "metadata": {
        "id": "_2FCDbKaPzBw"
      }
    },
    {
      "cell_type": "code",
      "source": [
        "def k_fold_cross_validation(X, y, k=5):\n",
        "    kf = KFold(n_splits=k, shuffle=True, random_state=42)\n",
        "    f1_scores = []\n",
        "    accuracy_scores = []\n",
        "\n",
        "    for train_index, test_index in kf.split(X):\n",
        "        X_train, X_test = X[train_index], X[test_index]\n",
        "        y_train, y_test = y[train_index], y[test_index]\n",
        "\n",
        "        # Initialize and train the Naive Bayes classifier\n",
        "        nb_classifier = NaiveBayesClassifier()\n",
        "        nb_classifier.fit(X_train, y_train, n)\n",
        "\n",
        "        # Make predictions on the test set\n",
        "        y_pred = nb_classifier.predict(X_test, n)\n",
        "\n",
        "        # Calculate F1 score and accuracy\n",
        "        f1 = f1_score(y_test, y_pred)\n",
        "        accuracy = accuracy_score(y_test, y_pred)\n",
        "\n",
        "        f1_scores.append(f1)\n",
        "        accuracy_scores.append(accuracy)\n",
        "\n",
        "    return f1_scores, accuracy_scores\n",
        "\n",
        "f1_scores, accuracy_scores = k_fold_cross_validation(X, y, k=5)\n",
        "print(\"Mean F1 Score:\", np.mean(f1_scores))\n",
        "print(\"Mean Accuracy:\", np.mean(accuracy_scores))"
      ],
      "metadata": {
        "id": "-UElrBrAhSbs",
        "outputId": "89be7c64-ab9b-4569-a62c-223766ed3d94",
        "colab": {
          "base_uri": "https://localhost:8080/"
        }
      },
      "execution_count": 417,
      "outputs": [
        {
          "output_type": "stream",
          "name": "stdout",
          "text": [
            "Mean F1 Score: 0.8165360693875814\n",
            "Mean Accuracy: 0.9091088498304039\n"
          ]
        }
      ]
    },
    {
      "cell_type": "markdown",
      "source": [
        "성능을 측정하는 방법으로 k fold cross validation을 사용하였습니다. k의 값은 하이퍼라마미터 섹션에서 CV를 통해서 조절할 수 있습니다.   \n",
        "\n",
        "해당 예제에서는 k=5로 두고 평균값을 계산하였습니다."
      ],
      "metadata": {
        "id": "dSVq8En7RnvW"
      }
    },
    {
      "cell_type": "code",
      "source": [
        "# 데이터 프레임 생성\n",
        "\n",
        "data = {\n",
        "    'n=1': [0.96, 0.956, 0.959, 0.954, 0.95],\n",
        "    'n=2': [0.92, 0.924, 0.938, 0.941, 0.925],\n",
        "    'n=3': [0.881, 0.883, 0.816, 0.822, 0.839],\n",
        "}\n",
        "\n",
        "index = ['lower', 'stemming', 'loswer, stopwords','stemming, stopwords', 'stemming, stopwords, numreplace']\n",
        "df1 = pd.DataFrame(data, index=index)\n",
        "\n",
        "\n",
        "# 표 출력\n",
        "print(\"n 별로의 결과값 테이블\")\n",
        "print(df1)"
      ],
      "metadata": {
        "colab": {
          "base_uri": "https://localhost:8080/"
        },
        "id": "2flnI8V0KDCp",
        "outputId": "061642c5-ccb6-4a75-c05a-554f4ff2e148"
      },
      "execution_count": 418,
      "outputs": [
        {
          "output_type": "stream",
          "name": "stdout",
          "text": [
            "n 별로의 결과값 테이블\n",
            "                                   n=1    n=2    n=3\n",
            "lower                            0.960  0.920  0.881\n",
            "stemming                         0.956  0.924  0.883\n",
            "loswer, stopwords                0.959  0.938  0.938\n",
            "stemming, stopwords              0.954  0.941  0.822\n",
            "stemming, stopwords, numreplace  0.950  0.925  0.839\n"
          ]
        }
      ]
    },
    {
      "cell_type": "code",
      "source": [
        "df1"
      ],
      "metadata": {
        "colab": {
          "base_uri": "https://localhost:8080/",
          "height": 206
        },
        "id": "jJzMmewTKpAo",
        "outputId": "2380c3d5-e29c-4e6d-bdf7-ef9c18a13c93"
      },
      "execution_count": 419,
      "outputs": [
        {
          "output_type": "execute_result",
          "data": {
            "text/plain": [
              "                                   n=1    n=2    n=3\n",
              "lower                            0.960  0.920  0.881\n",
              "stemming                         0.956  0.924  0.883\n",
              "loswer, stopwords                0.959  0.938  0.938\n",
              "stemming, stopwords              0.954  0.941  0.822\n",
              "stemming, stopwords, numreplace  0.950  0.925  0.839"
            ],
            "text/html": [
              "\n",
              "  <div id=\"df-56e0ef69-9034-4884-b33e-5b74dad9a5d6\" class=\"colab-df-container\">\n",
              "    <div>\n",
              "<style scoped>\n",
              "    .dataframe tbody tr th:only-of-type {\n",
              "        vertical-align: middle;\n",
              "    }\n",
              "\n",
              "    .dataframe tbody tr th {\n",
              "        vertical-align: top;\n",
              "    }\n",
              "\n",
              "    .dataframe thead th {\n",
              "        text-align: right;\n",
              "    }\n",
              "</style>\n",
              "<table border=\"1\" class=\"dataframe\">\n",
              "  <thead>\n",
              "    <tr style=\"text-align: right;\">\n",
              "      <th></th>\n",
              "      <th>n=1</th>\n",
              "      <th>n=2</th>\n",
              "      <th>n=3</th>\n",
              "    </tr>\n",
              "  </thead>\n",
              "  <tbody>\n",
              "    <tr>\n",
              "      <th>lower</th>\n",
              "      <td>0.960</td>\n",
              "      <td>0.920</td>\n",
              "      <td>0.881</td>\n",
              "    </tr>\n",
              "    <tr>\n",
              "      <th>stemming</th>\n",
              "      <td>0.956</td>\n",
              "      <td>0.924</td>\n",
              "      <td>0.883</td>\n",
              "    </tr>\n",
              "    <tr>\n",
              "      <th>loswer, stopwords</th>\n",
              "      <td>0.959</td>\n",
              "      <td>0.938</td>\n",
              "      <td>0.938</td>\n",
              "    </tr>\n",
              "    <tr>\n",
              "      <th>stemming, stopwords</th>\n",
              "      <td>0.954</td>\n",
              "      <td>0.941</td>\n",
              "      <td>0.822</td>\n",
              "    </tr>\n",
              "    <tr>\n",
              "      <th>stemming, stopwords, numreplace</th>\n",
              "      <td>0.950</td>\n",
              "      <td>0.925</td>\n",
              "      <td>0.839</td>\n",
              "    </tr>\n",
              "  </tbody>\n",
              "</table>\n",
              "</div>\n",
              "    <div class=\"colab-df-buttons\">\n",
              "\n",
              "  <div class=\"colab-df-container\">\n",
              "    <button class=\"colab-df-convert\" onclick=\"convertToInteractive('df-56e0ef69-9034-4884-b33e-5b74dad9a5d6')\"\n",
              "            title=\"Convert this dataframe to an interactive table.\"\n",
              "            style=\"display:none;\">\n",
              "\n",
              "  <svg xmlns=\"http://www.w3.org/2000/svg\" height=\"24px\" viewBox=\"0 -960 960 960\">\n",
              "    <path d=\"M120-120v-720h720v720H120Zm60-500h600v-160H180v160Zm220 220h160v-160H400v160Zm0 220h160v-160H400v160ZM180-400h160v-160H180v160Zm440 0h160v-160H620v160ZM180-180h160v-160H180v160Zm440 0h160v-160H620v160Z\"/>\n",
              "  </svg>\n",
              "    </button>\n",
              "\n",
              "  <style>\n",
              "    .colab-df-container {\n",
              "      display:flex;\n",
              "      gap: 12px;\n",
              "    }\n",
              "\n",
              "    .colab-df-convert {\n",
              "      background-color: #E8F0FE;\n",
              "      border: none;\n",
              "      border-radius: 50%;\n",
              "      cursor: pointer;\n",
              "      display: none;\n",
              "      fill: #1967D2;\n",
              "      height: 32px;\n",
              "      padding: 0 0 0 0;\n",
              "      width: 32px;\n",
              "    }\n",
              "\n",
              "    .colab-df-convert:hover {\n",
              "      background-color: #E2EBFA;\n",
              "      box-shadow: 0px 1px 2px rgba(60, 64, 67, 0.3), 0px 1px 3px 1px rgba(60, 64, 67, 0.15);\n",
              "      fill: #174EA6;\n",
              "    }\n",
              "\n",
              "    .colab-df-buttons div {\n",
              "      margin-bottom: 4px;\n",
              "    }\n",
              "\n",
              "    [theme=dark] .colab-df-convert {\n",
              "      background-color: #3B4455;\n",
              "      fill: #D2E3FC;\n",
              "    }\n",
              "\n",
              "    [theme=dark] .colab-df-convert:hover {\n",
              "      background-color: #434B5C;\n",
              "      box-shadow: 0px 1px 3px 1px rgba(0, 0, 0, 0.15);\n",
              "      filter: drop-shadow(0px 1px 2px rgba(0, 0, 0, 0.3));\n",
              "      fill: #FFFFFF;\n",
              "    }\n",
              "  </style>\n",
              "\n",
              "    <script>\n",
              "      const buttonEl =\n",
              "        document.querySelector('#df-56e0ef69-9034-4884-b33e-5b74dad9a5d6 button.colab-df-convert');\n",
              "      buttonEl.style.display =\n",
              "        google.colab.kernel.accessAllowed ? 'block' : 'none';\n",
              "\n",
              "      async function convertToInteractive(key) {\n",
              "        const element = document.querySelector('#df-56e0ef69-9034-4884-b33e-5b74dad9a5d6');\n",
              "        const dataTable =\n",
              "          await google.colab.kernel.invokeFunction('convertToInteractive',\n",
              "                                                    [key], {});\n",
              "        if (!dataTable) return;\n",
              "\n",
              "        const docLinkHtml = 'Like what you see? Visit the ' +\n",
              "          '<a target=\"_blank\" href=https://colab.research.google.com/notebooks/data_table.ipynb>data table notebook</a>'\n",
              "          + ' to learn more about interactive tables.';\n",
              "        element.innerHTML = '';\n",
              "        dataTable['output_type'] = 'display_data';\n",
              "        await google.colab.output.renderOutput(dataTable, element);\n",
              "        const docLink = document.createElement('div');\n",
              "        docLink.innerHTML = docLinkHtml;\n",
              "        element.appendChild(docLink);\n",
              "      }\n",
              "    </script>\n",
              "  </div>\n",
              "\n",
              "\n",
              "<div id=\"df-22ca79e8-d1b0-4d2d-b1b3-98a226aecd0c\">\n",
              "  <button class=\"colab-df-quickchart\" onclick=\"quickchart('df-22ca79e8-d1b0-4d2d-b1b3-98a226aecd0c')\"\n",
              "            title=\"Suggest charts.\"\n",
              "            style=\"display:none;\">\n",
              "\n",
              "<svg xmlns=\"http://www.w3.org/2000/svg\" height=\"24px\"viewBox=\"0 0 24 24\"\n",
              "     width=\"24px\">\n",
              "    <g>\n",
              "        <path d=\"M19 3H5c-1.1 0-2 .9-2 2v14c0 1.1.9 2 2 2h14c1.1 0 2-.9 2-2V5c0-1.1-.9-2-2-2zM9 17H7v-7h2v7zm4 0h-2V7h2v10zm4 0h-2v-4h2v4z\"/>\n",
              "    </g>\n",
              "</svg>\n",
              "  </button>\n",
              "\n",
              "<style>\n",
              "  .colab-df-quickchart {\n",
              "      --bg-color: #E8F0FE;\n",
              "      --fill-color: #1967D2;\n",
              "      --hover-bg-color: #E2EBFA;\n",
              "      --hover-fill-color: #174EA6;\n",
              "      --disabled-fill-color: #AAA;\n",
              "      --disabled-bg-color: #DDD;\n",
              "  }\n",
              "\n",
              "  [theme=dark] .colab-df-quickchart {\n",
              "      --bg-color: #3B4455;\n",
              "      --fill-color: #D2E3FC;\n",
              "      --hover-bg-color: #434B5C;\n",
              "      --hover-fill-color: #FFFFFF;\n",
              "      --disabled-bg-color: #3B4455;\n",
              "      --disabled-fill-color: #666;\n",
              "  }\n",
              "\n",
              "  .colab-df-quickchart {\n",
              "    background-color: var(--bg-color);\n",
              "    border: none;\n",
              "    border-radius: 50%;\n",
              "    cursor: pointer;\n",
              "    display: none;\n",
              "    fill: var(--fill-color);\n",
              "    height: 32px;\n",
              "    padding: 0;\n",
              "    width: 32px;\n",
              "  }\n",
              "\n",
              "  .colab-df-quickchart:hover {\n",
              "    background-color: var(--hover-bg-color);\n",
              "    box-shadow: 0 1px 2px rgba(60, 64, 67, 0.3), 0 1px 3px 1px rgba(60, 64, 67, 0.15);\n",
              "    fill: var(--button-hover-fill-color);\n",
              "  }\n",
              "\n",
              "  .colab-df-quickchart-complete:disabled,\n",
              "  .colab-df-quickchart-complete:disabled:hover {\n",
              "    background-color: var(--disabled-bg-color);\n",
              "    fill: var(--disabled-fill-color);\n",
              "    box-shadow: none;\n",
              "  }\n",
              "\n",
              "  .colab-df-spinner {\n",
              "    border: 2px solid var(--fill-color);\n",
              "    border-color: transparent;\n",
              "    border-bottom-color: var(--fill-color);\n",
              "    animation:\n",
              "      spin 1s steps(1) infinite;\n",
              "  }\n",
              "\n",
              "  @keyframes spin {\n",
              "    0% {\n",
              "      border-color: transparent;\n",
              "      border-bottom-color: var(--fill-color);\n",
              "      border-left-color: var(--fill-color);\n",
              "    }\n",
              "    20% {\n",
              "      border-color: transparent;\n",
              "      border-left-color: var(--fill-color);\n",
              "      border-top-color: var(--fill-color);\n",
              "    }\n",
              "    30% {\n",
              "      border-color: transparent;\n",
              "      border-left-color: var(--fill-color);\n",
              "      border-top-color: var(--fill-color);\n",
              "      border-right-color: var(--fill-color);\n",
              "    }\n",
              "    40% {\n",
              "      border-color: transparent;\n",
              "      border-right-color: var(--fill-color);\n",
              "      border-top-color: var(--fill-color);\n",
              "    }\n",
              "    60% {\n",
              "      border-color: transparent;\n",
              "      border-right-color: var(--fill-color);\n",
              "    }\n",
              "    80% {\n",
              "      border-color: transparent;\n",
              "      border-right-color: var(--fill-color);\n",
              "      border-bottom-color: var(--fill-color);\n",
              "    }\n",
              "    90% {\n",
              "      border-color: transparent;\n",
              "      border-bottom-color: var(--fill-color);\n",
              "    }\n",
              "  }\n",
              "</style>\n",
              "\n",
              "  <script>\n",
              "    async function quickchart(key) {\n",
              "      const quickchartButtonEl =\n",
              "        document.querySelector('#' + key + ' button');\n",
              "      quickchartButtonEl.disabled = true;  // To prevent multiple clicks.\n",
              "      quickchartButtonEl.classList.add('colab-df-spinner');\n",
              "      try {\n",
              "        const charts = await google.colab.kernel.invokeFunction(\n",
              "            'suggestCharts', [key], {});\n",
              "      } catch (error) {\n",
              "        console.error('Error during call to suggestCharts:', error);\n",
              "      }\n",
              "      quickchartButtonEl.classList.remove('colab-df-spinner');\n",
              "      quickchartButtonEl.classList.add('colab-df-quickchart-complete');\n",
              "    }\n",
              "    (() => {\n",
              "      let quickchartButtonEl =\n",
              "        document.querySelector('#df-22ca79e8-d1b0-4d2d-b1b3-98a226aecd0c button');\n",
              "      quickchartButtonEl.style.display =\n",
              "        google.colab.kernel.accessAllowed ? 'block' : 'none';\n",
              "    })();\n",
              "  </script>\n",
              "</div>\n",
              "    </div>\n",
              "  </div>\n"
            ]
          },
          "metadata": {},
          "execution_count": 419
        }
      ]
    },
    {
      "cell_type": "markdown",
      "source": [
        "# 접근 방향"
      ],
      "metadata": {
        "id": "cGw9Ffq9hkMY"
      }
    },
    {
      "cell_type": "markdown",
      "source": [
        "처음엔 의미없는 토근의 수가 많을수록 성능을 떨어트린다고 생각했었고, 따라서 전처리 과정에서 가능한 토큰수를 줄이는 방향으로 접근했습니다.   \n",
        "\n",
        "처음 토근값을 살펴보았을 떄, 빈도수가 1인 단어들이 전체중에서 압도적으로 많았습니다. 그중에서 숫자들에 주목했었는데 아마 다시는 사용되지 않을것같다는 생각이 들었습니다. 숫자들을 처리하는 방법들을 생각해보다 제거하기보다는 대표문자로 변환하는 방법을 택했습니다. 이유는 의미없어보이는 숫자들이 스팸 이메일의 특징을 잘 나타낼지도 몰랐기 때문입니다.\n",
        "\n",
        "토큰 값중에서 가장 빈도수가 높은 것은 the 였습니다. 불용어에 해당되는 단어가 압도적으로 많은 빈도수를 차지하는 특징을 보았고, 어디서든 사용될 만큼 범용적이라 없더라도 스팸 여부를 판단하는데는 지장이 없을거라 생각했습니다.\n",
        "\n",
        "다음으로 어간을 추출하는 방법을 통해 의미가 같지만 형태만 달라 토근을 차지하는 가짓수를 줄여보았습니다.   \n",
        "\n"
      ],
      "metadata": {
        "id": "VejBLQc6fQ8v"
      }
    },
    {
      "cell_type": "markdown",
      "source": [
        "# 결과 분석\n",
        "\n",
        "결과에서 가장 좋은 성능을 보였던 것은 1gram에서 소문자로 토큰을 추출한 경우였습니다.   \n",
        "\n",
        "- n=1:   \n",
        "    대체적으로 소문자화만 진행한 토큰이 성능이 가장 좋았습니다. 6000개 정도의 데이터셋이 작다고 생각해 토근을 줄이는것이 좋다고 판단했었는데, 텍스트 분류에서는 오히려 충분히 많은 데이터가 아니였나 싶습니다.\n",
        "\n",
        "- n=2:   \n",
        "    어간 추출이 유의미했으며, 기존 소문자만 진행했을때보다 0.004%의 성능 향상이 있었으며, 어간 추출을 추가했을 경우 기존에 비해 0.021% 상승했습니다.    \n",
        "\n",
        "숫자를 추가한 경우, 전반적으로 기존보다 성능이 떨어졌는데 숫자에 예상보다 유의미한 정보들이 있었다고 판단됩니다.\n",
        "\n"
      ],
      "metadata": {
        "id": "WfLkqNA8jTcw"
      }
    }
  ]
}